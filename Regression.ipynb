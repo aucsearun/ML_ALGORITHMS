{
 "cells": [
  {
   "cell_type": "markdown",
   "id": "22a2de16",
   "metadata": {},
   "source": [
    "Simple Linear Regression\n",
    "===================="
   ]
  },
  {
   "cell_type": "code",
   "execution_count": null,
   "id": "d1b6a4e3",
   "metadata": {},
   "outputs": [],
   "source": [
    "#Importing the libraries\n",
    "import pandas as pd\n",
    "import numpy as np\n",
    "import matplotlib.pyplot as plt\n",
    "from sklearn.model_selection import train_test_split\n",
    "from sklearn.linear_model import LinearRegression\n",
    "import matplotlib.pyplot as plt"
   ]
  },
  {
   "cell_type": "code",
   "execution_count": null,
   "id": "3a29e052",
   "metadata": {},
   "outputs": [],
   "source": [
    "#Importing the dataset\n",
    "data = pd.read_csv('./datasets/studentscores.csv')"
   ]
  },
  {
   "cell_type": "code",
   "execution_count": null,
   "id": "e8cc8e30",
   "metadata": {},
   "outputs": [],
   "source": [
    "#Data extraction\n",
    "x =data.iloc[:, :1].values\n",
    "y = data.iloc[:,1].values"
   ]
  },
  {
   "cell_type": "code",
   "execution_count": null,
   "id": "108fa918",
   "metadata": {},
   "outputs": [],
   "source": [
    "#Splitting the dataset into the Training set and Test set\n",
    "x_train,x_test,y_train,y_test = train_test_split(x,y,test_size=1/4,random_state=0)"
   ]
  },
  {
   "cell_type": "code",
   "execution_count": null,
   "id": "d4f55528",
   "metadata": {},
   "outputs": [],
   "source": [
    "#Fitting Multiple Linear Regression to the Training set\n",
    "regressor =LinearRegression()\n",
    "regressor = regressor.fit(x_train,y_train)\n",
    "#Predicting the Test set results\n",
    "y_pred = regressor.predict(x_test)"
   ]
  },
  {
   "cell_type": "code",
   "execution_count": null,
   "id": "aed2a769",
   "metadata": {},
   "outputs": [],
   "source": [
    "#Visualising the Training results\n",
    "plt.scatter(x_train , y_train, color = 'red')\n",
    "plt.plot(x_train , regressor.predict(x_train), color ='blue')"
   ]
  },
  {
   "cell_type": "code",
   "execution_count": null,
   "id": "0630dd4f",
   "metadata": {},
   "outputs": [],
   "source": [
    "#Visualizing the test results\n",
    "plt.scatter(x_test , y_test, color = 'red')\n",
    "plt.plot(x_test , regressor.predict(x_test), color ='blue')"
   ]
  },
  {
   "cell_type": "markdown",
   "id": "a6fa3ea2",
   "metadata": {},
   "source": [
    "Multiple Linear Regression\n",
    "=========="
   ]
  },
  {
   "cell_type": "code",
   "execution_count": null,
   "id": "3cff59c5",
   "metadata": {},
   "outputs": [],
   "source": [
    "#Importing the libraries\n",
    "import numpy as np\n",
    "import pandas as pd\n",
    "import matplotlib.pyplot as plt\n",
    "from sklearn.model_selection import train_test_split\n",
    "from sklearn.preprocessing import LabelEncoder, OneHotEncoder\n",
    "from sklearn.compose import ColumnTransformer\n",
    "from sklearn.linear_model import LinearRegression"
   ]
  },
  {
   "cell_type": "code",
   "execution_count": null,
   "id": "907229bc",
   "metadata": {},
   "outputs": [],
   "source": [
    "#Importing the dataset\n",
    "data = pd.read_csv(\"./datasets/50_Startups.csv\")"
   ]
  },
  {
   "cell_type": "code",
   "execution_count": null,
   "id": "d1609453",
   "metadata": {},
   "outputs": [],
   "source": [
    "#Data extraction\n",
    "X = data.iloc[ : , :-1].values\n",
    "Y = data.iloc[ : ,  4 ].values"
   ]
  },
  {
   "cell_type": "code",
   "execution_count": null,
   "id": "0c4efb3d",
   "metadata": {},
   "outputs": [],
   "source": [
    "#Data preprocessing\n",
    "labelencoder = LabelEncoder()\n",
    "X[ : , 3] = labelencoder.fit_transform(X[ : , 3])\n",
    "onehotencoder = ColumnTransformer([(\"State\", OneHotEncoder(), [3])], remainder = 'passthrough')\n",
    "X = onehotencoder.fit_transform(X)"
   ]
  },
  {
   "cell_type": "code",
   "execution_count": null,
   "id": "cfb8afce",
   "metadata": {},
   "outputs": [],
   "source": [
    "#Splitting the dataset into the Training set and Test set\n",
    "X_train ,X_test ,Y_train,Y_test =train_test_split(X,Y,test_size=0.2,random_state=0)"
   ]
  },
  {
   "cell_type": "code",
   "execution_count": null,
   "id": "8a79da33",
   "metadata": {},
   "outputs": [],
   "source": [
    "#Fitting Multiple Linear Regression to the Training set\n",
    "regressor = LinearRegression()\n",
    "regressor =regressor.fit(X_train ,Y_train)"
   ]
  },
  {
   "cell_type": "code",
   "execution_count": null,
   "id": "d133e211",
   "metadata": {},
   "outputs": [],
   "source": [
    "# Predicting the Test set results\n",
    "y_pred =regressor.predict(X_test)"
   ]
  },
  {
   "cell_type": "markdown",
   "id": "0d88996a",
   "metadata": {},
   "source": [
    "Logistic Regression\n",
    "==========="
   ]
  },
  {
   "cell_type": "code",
   "execution_count": null,
   "id": "6e3f2525",
   "metadata": {},
   "outputs": [],
   "source": [
    "#Importing the Libraries\n",
    "import numpy as np\n",
    "import matplotlib.pyplot as plt\n",
    "import pandas as pd\n",
    "from sklearn.model_selection import train_test_split\n",
    "from sklearn.preprocessing import StandardScaler\n",
    "from sklearn.linear_model import LogisticRegression"
   ]
  },
  {
   "cell_type": "code",
   "execution_count": null,
   "id": "562f3865",
   "metadata": {},
   "outputs": [],
   "source": [
    "#Importing the Dataset\n",
    "data =pd.read_csv(\"./datasets/Social_Network_Ads.csv\")"
   ]
  },
  {
   "cell_type": "code",
   "execution_count": null,
   "id": "c255d0f4",
   "metadata": {},
   "outputs": [],
   "source": [
    "#Data extraction\n",
    "x = data.iloc[:, [2, 3]].values\n",
    "y = data.iloc[: , 4]"
   ]
  },
  {
   "cell_type": "code",
   "execution_count": null,
   "id": "e24b6aa4",
   "metadata": {},
   "outputs": [],
   "source": [
    "#Splitting the dataset into the Training set and Test set\n",
    "X_train, X_test, y_train, y_test = train_test_split(X, y, test_size = 0.25, random_state = 0)"
   ]
  },
  {
   "cell_type": "code",
   "execution_count": null,
   "id": "19fdbacf",
   "metadata": {},
   "outputs": [],
   "source": [
    "#Feature Scaling\n",
    "sc =StandardScaler()\n",
    "X_train = sc.fit_transform(X_train)\n",
    "X_test = sc.transform(X_test)"
   ]
  },
  {
   "cell_type": "code",
   "execution_count": null,
   "id": "922ef219",
   "metadata": {},
   "outputs": [],
   "source": [
    "#Fitting Logistic Regression to the Training set\n",
    "classifier = LogisticRegression()\n",
    "classifier.fit(X_train, y_train)"
   ]
  },
  {
   "cell_type": "code",
   "execution_count": null,
   "id": "57556496",
   "metadata": {},
   "outputs": [],
   "source": [
    "#Predection\n",
    "y_pred = classifier.predict(X_test)"
   ]
  },
  {
   "cell_type": "code",
   "execution_count": null,
   "id": "4790ca1c",
   "metadata": {},
   "outputs": [],
   "source": []
  },
  {
   "cell_type": "code",
   "execution_count": null,
   "id": "d1fd2c6e",
   "metadata": {},
   "outputs": [],
   "source": []
  },
  {
   "cell_type": "code",
   "execution_count": null,
   "id": "af079ac7",
   "metadata": {},
   "outputs": [],
   "source": []
  }
 ],
 "metadata": {
  "kernelspec": {
   "display_name": "Python 3 (ipykernel)",
   "language": "python",
   "name": "python3"
  },
  "language_info": {
   "codemirror_mode": {
    "name": "ipython",
    "version": 3
   },
   "file_extension": ".py",
   "mimetype": "text/x-python",
   "name": "python",
   "nbconvert_exporter": "python",
   "pygments_lexer": "ipython3",
   "version": "3.10.4"
  }
 },
 "nbformat": 4,
 "nbformat_minor": 5
}
